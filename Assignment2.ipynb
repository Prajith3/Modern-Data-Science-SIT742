{
  "nbformat": 4,
  "nbformat_minor": 0,
  "metadata": {
    "colab": {
      "provenance": [],
      "collapsed_sections": [],
      "authorship_tag": "ABX9TyOsZ2mvn+MgYk1+aMuhP+PZ",
      "include_colab_link": true
    },
    "kernelspec": {
      "name": "python3",
      "display_name": "Python 3"
    },
    "language_info": {
      "name": "python"
    }
  },
  "cells": [
    {
      "cell_type": "markdown",
      "metadata": {
        "id": "view-in-github",
        "colab_type": "text"
      },
      "source": [
        "<a href=\"https://colab.research.google.com/github/Prajith3/Real-World-Analytics/blob/main/Assignment2.ipynb\" target=\"_parent\"><img src=\"https://colab.research.google.com/assets/colab-badge.svg\" alt=\"Open In Colab\"/></a>"
      ]
    },
    {
      "cell_type": "markdown",
      "source": [
        "## **Part A**"
      ],
      "metadata": {
        "id": "BHxznkfNjQT4"
      }
    },
    {
      "cell_type": "markdown",
      "source": [
        "**Answer 1.1**"
      ],
      "metadata": {
        "id": "P-BPwalwjqeJ"
      }
    },
    {
      "cell_type": "code",
      "source": [
        "!pip install wget"
      ],
      "metadata": {
        "colab": {
          "base_uri": "https://localhost:8080/"
        },
        "id": "ynwPHSQmpDb3",
        "outputId": "6cca4193-9c98-4029-f274-6895a02dca6f"
      },
      "execution_count": 1,
      "outputs": [
        {
          "output_type": "stream",
          "name": "stdout",
          "text": [
            "Looking in indexes: https://pypi.org/simple, https://us-python.pkg.dev/colab-wheels/public/simple/\n",
            "Collecting wget\n",
            "  Downloading wget-3.2.zip (10 kB)\n",
            "Building wheels for collected packages: wget\n",
            "  Building wheel for wget (setup.py) ... \u001b[?25l\u001b[?25hdone\n",
            "  Created wheel for wget: filename=wget-3.2-py3-none-any.whl size=9675 sha256=4f895ee5765d02df41e0f5c3574498c39ecdd7ff6b31b5db098c2a61a64b63b5\n",
            "  Stored in directory: /root/.cache/pip/wheels/a1/b6/7c/0e63e34eb06634181c63adacca38b79ff8f35c37e3c13e3c02\n",
            "Successfully built wget\n",
            "Installing collected packages: wget\n",
            "Successfully installed wget-3.2\n"
          ]
        }
      ]
    },
    {
      "cell_type": "code",
      "execution_count": 2,
      "metadata": {
        "id": "ncoRMHnsm4IR"
      },
      "outputs": [],
      "source": [
        "import wget\n",
        "import json\n",
        "import pandas as pd\n",
        "import numpy as np\n",
        "import math\n"
      ]
    },
    {
      "cell_type": "code",
      "source": [
        "# read json file\n",
        "link_to_data = 'https://raw.githubusercontent.com/tulip-lab/sit742/develop/Assessment/2022/data/assignment2data.json'\n",
        "DataSet = wget.download(link_to_data)"
      ],
      "metadata": {
        "id": "5NiWd1xWoJNq"
      },
      "execution_count": 3,
      "outputs": []
    },
    {
      "cell_type": "code",
      "source": [
        "#load json file (Krunal, 2022)\n",
        "pd_df = pd.read_json('/content/assignment2data.json', lines=True, orient='records')"
      ],
      "metadata": {
        "id": "4vul8bOfzH8r"
      },
      "execution_count": 4,
      "outputs": []
    },
    {
      "cell_type": "code",
      "source": [
        "#convert json file to csv\n",
        "\n",
        "dfcsv = pd_df.to_csv('/content/assignment2data.csv', index=False)\n",
        "\n",
        "#read the csv file\n",
        "df = pd.read_csv('/content/assignment2data.csv')\n",
        "\n",
        "#print the shape\n",
        "print(\"The shape of the assessemnt 2 dataframe is:\", df.shape)"
      ],
      "metadata": {
        "colab": {
          "base_uri": "https://localhost:8080/"
        },
        "id": "w9dyeIedD8ob",
        "outputId": "d7557830-ca13-4567-b2f4-e6aaf9c5008b"
      },
      "execution_count": 5,
      "outputs": [
        {
          "output_type": "stream",
          "name": "stdout",
          "text": [
            "The shape of the assessemnt 2 dataframe is: (46279, 43)\n"
          ]
        }
      ]
    },
    {
      "cell_type": "code",
      "source": [
        "# Selecting duplicate rows except first (Ankthon, 2022)\n",
        "# occurrence based on all columns\n",
        "duplicate = df[df.duplicated()]\n",
        " \n",
        "#Shape of duplicates\n",
        "print(\"The shape of duplicate the rows is:\", duplicate.shape)"
      ],
      "metadata": {
        "colab": {
          "base_uri": "https://localhost:8080/"
        },
        "id": "AmOMx2raFuIR",
        "outputId": "04ce312d-948d-400b-da0b-9efda94c1162"
      },
      "execution_count": 6,
      "outputs": [
        {
          "output_type": "stream",
          "name": "stdout",
          "text": [
            "The shape of duplicate the rows is: (249, 43)\n"
          ]
        }
      ]
    },
    {
      "cell_type": "code",
      "source": [
        "#remove the duplicate rows\n",
        "df_clean = df.drop_duplicates(subset=None, keep='first', inplace=False, ignore_index=False)\n",
        "\n",
        "#Shape of clean dataframe\n",
        "duplicate_row = len(df)-len(df_clean)\n",
        "print('Number of duplicate rows are : {}'.format(duplicate_row))\n",
        "print(\"The shape of the assessment 2 data, cleaned of duplicate rows is:\", df_clean.shape)"
      ],
      "metadata": {
        "colab": {
          "base_uri": "https://localhost:8080/"
        },
        "id": "amXnmSG-zjWP",
        "outputId": "7db953fb-ab2b-4512-8154-f2e263ba674e"
      },
      "execution_count": 7,
      "outputs": [
        {
          "output_type": "stream",
          "name": "stdout",
          "text": [
            "Number of duplicate rows are : 249\n",
            "The shape of the assessment 2 data, cleaned of duplicate rows is: (46030, 43)\n"
          ]
        }
      ]
    },
    {
      "cell_type": "markdown",
      "source": [
        "**Answer 1.2**"
      ],
      "metadata": {
        "id": "-jJ1fSD6jwuP"
      }
    },
    {
      "cell_type": "code",
      "source": [
        "#Alternative method\n",
        "'''\n",
        "def missingdf(df):\n",
        "    columns = [\"column_name\", \"percent_missing\"]\n",
        "    rate_list = {}\n",
        "    for i in df.columns:\n",
        "        rate_list[i] = df[i].isna().sum()/len(df)\n",
        "    rate_df = pd.DataFrame.from_dict(rate_list, orient='index')\n",
        "    rate_df = rate_df.reset_index(drop=False)\n",
        "    rate_df.columns = columns\n",
        "    return rate_df\n",
        "\n",
        "param = missingdf(df_clean)\n",
        "print(param)\n",
        "'''\n",
        "def missingdf(df):\n",
        "  rate = list(round(df.isnull().sum()/len(df)*100,1))\n",
        "  col_names = list(df.columns)\n",
        "  rate_df = pd.DataFrame()\n",
        "  rate_df['Column Names'] = col_names\n",
        "  rate_df['Percent Missing'] = rate\n",
        "\n",
        "  print(rate_df.to_string(index=False))\n",
        "\n",
        "missingdf(df_clean)"
      ],
      "metadata": {
        "colab": {
          "base_uri": "https://localhost:8080/"
        },
        "id": "pCiI5N6szo6E",
        "outputId": "1a5c5d2f-f83f-44bb-9e8f-494c6c8c1b7f"
      },
      "execution_count": 8,
      "outputs": [
        {
          "output_type": "stream",
          "name": "stdout",
          "text": [
            "            Column Names  Percent Missing\n",
            "              sacc_items              0.0\n",
            "             work_orders              0.0\n",
            "            female_items              0.0\n",
            "is_newsletter_subscriber              0.0\n",
            "              male_items              0.0\n",
            "       afterpay_payments              0.0\n",
            "            msite_orders              0.0\n",
            "              wftw_items              0.0\n",
            "              mapp_items              0.0\n",
            "                  orders              0.0\n",
            "             cc_payments              0.0\n",
            "             curvy_items              0.0\n",
            "         paypal_payments              0.0\n",
            "              macc_items              0.0\n",
            "                 cancels              0.0\n",
            "                 revenue              0.0\n",
            "                 returns              0.0\n",
            " other_collection_orders              0.0\n",
            "      parcelpoint_orders              0.0\n",
            "             customer_id              0.0\n",
            "          android_orders              0.0\n",
            "   days_since_last_order              0.0\n",
            "                vouchers              0.0\n",
            "   average_discount_used              0.0\n",
            "      shipping_addresses              0.0\n",
            "    redpen_discount_used              0.0\n",
            "              mftw_items              0.0\n",
            "  days_since_first_order              0.0\n",
            "            unisex_items              0.0\n",
            "             home_orders              0.0\n",
            " coupon_discount_applied             22.2\n",
            "          desktop_orders              0.0\n",
            "              ios_orders              0.0\n",
            "          apple_payments              0.0\n",
            "              wspt_items              0.0\n",
            "              wacc_items              0.0\n",
            "                   items              0.0\n",
            "              mspt_items              0.0\n",
            "                 devices              0.0\n",
            "     different_addresses              0.0\n",
            "              wapp_items              0.0\n",
            "     other_device_orders              0.0\n",
            "average_discount_onoffer              0.0\n"
          ]
        }
      ]
    },
    {
      "cell_type": "markdown",
      "source": [
        "**Answer 1.3**"
      ],
      "metadata": {
        "id": "W8ilqvvE4XpC"
      }
    },
    {
      "cell_type": "code",
      "source": [
        "from pandas.api.types import is_string_dtype, is_numeric_dtype\n",
        "\n",
        "def column_list(df):\n",
        "  numerical_list, categorical_list = list(),list()\n",
        "\n",
        "  for i in df.columns:\n",
        "    if is_numeric_dtype(df[i]):\n",
        "      numerical_list.append(i)\n",
        "    elif is_string_dtype(df[i]):\n",
        "      categorical_list.append(i)\n",
        "  return numerical_list,categorical_list\n",
        "\n",
        "numerical_list,categorical_list = column_list(df_clean)\n",
        "print(numerical_list)\n",
        "print(categorical_list)"
      ],
      "metadata": {
        "colab": {
          "base_uri": "https://localhost:8080/"
        },
        "id": "HjlrsErR06jE",
        "outputId": "4c568866-e5e8-4677-c913-ce0a65bc2049"
      },
      "execution_count": 9,
      "outputs": [
        {
          "output_type": "stream",
          "name": "stdout",
          "text": [
            "['sacc_items', 'work_orders', 'female_items', 'male_items', 'afterpay_payments', 'msite_orders', 'wftw_items', 'mapp_items', 'orders', 'cc_payments', 'curvy_items', 'paypal_payments', 'macc_items', 'cancels', 'revenue', 'returns', 'other_collection_orders', 'parcelpoint_orders', 'android_orders', 'days_since_last_order', 'vouchers', 'average_discount_used', 'shipping_addresses', 'redpen_discount_used', 'mftw_items', 'days_since_first_order', 'unisex_items', 'home_orders', 'coupon_discount_applied', 'desktop_orders', 'ios_orders', 'apple_payments', 'wspt_items', 'wacc_items', 'items', 'mspt_items', 'devices', 'different_addresses', 'wapp_items', 'other_device_orders', 'average_discount_onoffer']\n",
            "['is_newsletter_subscriber', 'customer_id']\n"
          ]
        }
      ]
    },
    {
      "cell_type": "code",
      "source": [
        "#Stats of the numerical column\n",
        "df_clean[numerical_list].describe()"
      ],
      "metadata": {
        "colab": {
          "base_uri": "https://localhost:8080/",
          "height": 390
        },
        "id": "bEqW3KeA9kHQ",
        "outputId": "2c410983-b433-45b2-daa1-932cdd50e16b"
      },
      "execution_count": 10,
      "outputs": [
        {
          "output_type": "execute_result",
          "data": {
            "text/plain": [
              "         sacc_items   work_orders  female_items    male_items  \\\n",
              "count  46030.000000  46030.000000  46030.000000  46030.000000   \n",
              "mean       0.087899      0.240995      6.472800      1.720660   \n",
              "std        0.539604      1.565071     17.830007      5.468827   \n",
              "min        0.000000      0.000000      0.000000      0.000000   \n",
              "25%        0.000000      0.000000      0.000000      0.000000   \n",
              "50%        0.000000      0.000000      2.000000      0.000000   \n",
              "75%        0.000000      0.000000      5.000000      1.000000   \n",
              "max       29.000000     84.000000    537.000000    273.000000   \n",
              "\n",
              "       afterpay_payments  msite_orders    wftw_items    mapp_items  \\\n",
              "count       46030.000000  46030.000000  46030.000000  46030.000000   \n",
              "mean            0.053595      0.978557      1.633826      0.926613   \n",
              "std             0.225220      2.859161      4.088452      3.689578   \n",
              "min             0.000000      0.000000      0.000000      0.000000   \n",
              "25%             0.000000      0.000000      0.000000      0.000000   \n",
              "50%             0.000000      0.000000      0.000000      0.000000   \n",
              "75%             0.000000      1.000000      2.000000      0.000000   \n",
              "max             1.000000    172.000000    261.000000    151.000000   \n",
              "\n",
              "             orders   cc_payments  ...  apple_payments    wspt_items  \\\n",
              "count  46030.000000  46030.000000  ...    46030.000000  46030.000000   \n",
              "mean       4.111362      0.642972  ...        0.000565      0.378753   \n",
              "std        8.122569      0.479128  ...        0.023760      1.712662   \n",
              "min        1.000000      0.000000  ...        0.000000      0.000000   \n",
              "25%        1.000000      0.000000  ...        0.000000      0.000000   \n",
              "50%        2.000000      1.000000  ...        0.000000      0.000000   \n",
              "75%        4.000000      1.000000  ...        0.000000      0.000000   \n",
              "max      665.000000      1.000000  ...        1.000000     56.000000   \n",
              "\n",
              "         wacc_items         items    mspt_items       devices  \\\n",
              "count  46030.000000  46030.000000  46030.000000  46030.000000   \n",
              "mean       0.573908      8.583750      0.116229      1.277580   \n",
              "std        2.542536     19.959377      0.716745      0.533286   \n",
              "min        0.000000      1.000000      0.000000      1.000000   \n",
              "25%        0.000000      1.000000      0.000000      1.000000   \n",
              "50%        0.000000      3.000000      0.000000      1.000000   \n",
              "75%        0.000000      7.000000      0.000000      1.000000   \n",
              "max      353.000000    701.000000     38.000000      3.000000   \n",
              "\n",
              "       different_addresses    wapp_items  other_device_orders  \\\n",
              "count         46030.000000  46030.000000         46030.000000   \n",
              "mean              0.116402      3.800782             0.000043   \n",
              "std               0.320710     12.679782             0.009322   \n",
              "min               0.000000      0.000000             0.000000   \n",
              "25%               0.000000      0.000000             0.000000   \n",
              "50%               0.000000      0.000000             0.000000   \n",
              "75%               0.000000      2.000000             0.000000   \n",
              "max               1.000000    409.000000             2.000000   \n",
              "\n",
              "       average_discount_onoffer  \n",
              "count              46030.000000  \n",
              "mean                   0.190171  \n",
              "std                    0.190702  \n",
              "min                    0.000000  \n",
              "25%                    0.000000  \n",
              "50%                    0.150000  \n",
              "75%                    0.314300  \n",
              "max                    1.000000  \n",
              "\n",
              "[8 rows x 41 columns]"
            ],
            "text/html": [
              "\n",
              "  <div id=\"df-d59f518e-c49f-4c95-8810-80f66c437a9c\">\n",
              "    <div class=\"colab-df-container\">\n",
              "      <div>\n",
              "<style scoped>\n",
              "    .dataframe tbody tr th:only-of-type {\n",
              "        vertical-align: middle;\n",
              "    }\n",
              "\n",
              "    .dataframe tbody tr th {\n",
              "        vertical-align: top;\n",
              "    }\n",
              "\n",
              "    .dataframe thead th {\n",
              "        text-align: right;\n",
              "    }\n",
              "</style>\n",
              "<table border=\"1\" class=\"dataframe\">\n",
              "  <thead>\n",
              "    <tr style=\"text-align: right;\">\n",
              "      <th></th>\n",
              "      <th>sacc_items</th>\n",
              "      <th>work_orders</th>\n",
              "      <th>female_items</th>\n",
              "      <th>male_items</th>\n",
              "      <th>afterpay_payments</th>\n",
              "      <th>msite_orders</th>\n",
              "      <th>wftw_items</th>\n",
              "      <th>mapp_items</th>\n",
              "      <th>orders</th>\n",
              "      <th>cc_payments</th>\n",
              "      <th>...</th>\n",
              "      <th>apple_payments</th>\n",
              "      <th>wspt_items</th>\n",
              "      <th>wacc_items</th>\n",
              "      <th>items</th>\n",
              "      <th>mspt_items</th>\n",
              "      <th>devices</th>\n",
              "      <th>different_addresses</th>\n",
              "      <th>wapp_items</th>\n",
              "      <th>other_device_orders</th>\n",
              "      <th>average_discount_onoffer</th>\n",
              "    </tr>\n",
              "  </thead>\n",
              "  <tbody>\n",
              "    <tr>\n",
              "      <th>count</th>\n",
              "      <td>46030.000000</td>\n",
              "      <td>46030.000000</td>\n",
              "      <td>46030.000000</td>\n",
              "      <td>46030.000000</td>\n",
              "      <td>46030.000000</td>\n",
              "      <td>46030.000000</td>\n",
              "      <td>46030.000000</td>\n",
              "      <td>46030.000000</td>\n",
              "      <td>46030.000000</td>\n",
              "      <td>46030.000000</td>\n",
              "      <td>...</td>\n",
              "      <td>46030.000000</td>\n",
              "      <td>46030.000000</td>\n",
              "      <td>46030.000000</td>\n",
              "      <td>46030.000000</td>\n",
              "      <td>46030.000000</td>\n",
              "      <td>46030.000000</td>\n",
              "      <td>46030.000000</td>\n",
              "      <td>46030.000000</td>\n",
              "      <td>46030.000000</td>\n",
              "      <td>46030.000000</td>\n",
              "    </tr>\n",
              "    <tr>\n",
              "      <th>mean</th>\n",
              "      <td>0.087899</td>\n",
              "      <td>0.240995</td>\n",
              "      <td>6.472800</td>\n",
              "      <td>1.720660</td>\n",
              "      <td>0.053595</td>\n",
              "      <td>0.978557</td>\n",
              "      <td>1.633826</td>\n",
              "      <td>0.926613</td>\n",
              "      <td>4.111362</td>\n",
              "      <td>0.642972</td>\n",
              "      <td>...</td>\n",
              "      <td>0.000565</td>\n",
              "      <td>0.378753</td>\n",
              "      <td>0.573908</td>\n",
              "      <td>8.583750</td>\n",
              "      <td>0.116229</td>\n",
              "      <td>1.277580</td>\n",
              "      <td>0.116402</td>\n",
              "      <td>3.800782</td>\n",
              "      <td>0.000043</td>\n",
              "      <td>0.190171</td>\n",
              "    </tr>\n",
              "    <tr>\n",
              "      <th>std</th>\n",
              "      <td>0.539604</td>\n",
              "      <td>1.565071</td>\n",
              "      <td>17.830007</td>\n",
              "      <td>5.468827</td>\n",
              "      <td>0.225220</td>\n",
              "      <td>2.859161</td>\n",
              "      <td>4.088452</td>\n",
              "      <td>3.689578</td>\n",
              "      <td>8.122569</td>\n",
              "      <td>0.479128</td>\n",
              "      <td>...</td>\n",
              "      <td>0.023760</td>\n",
              "      <td>1.712662</td>\n",
              "      <td>2.542536</td>\n",
              "      <td>19.959377</td>\n",
              "      <td>0.716745</td>\n",
              "      <td>0.533286</td>\n",
              "      <td>0.320710</td>\n",
              "      <td>12.679782</td>\n",
              "      <td>0.009322</td>\n",
              "      <td>0.190702</td>\n",
              "    </tr>\n",
              "    <tr>\n",
              "      <th>min</th>\n",
              "      <td>0.000000</td>\n",
              "      <td>0.000000</td>\n",
              "      <td>0.000000</td>\n",
              "      <td>0.000000</td>\n",
              "      <td>0.000000</td>\n",
              "      <td>0.000000</td>\n",
              "      <td>0.000000</td>\n",
              "      <td>0.000000</td>\n",
              "      <td>1.000000</td>\n",
              "      <td>0.000000</td>\n",
              "      <td>...</td>\n",
              "      <td>0.000000</td>\n",
              "      <td>0.000000</td>\n",
              "      <td>0.000000</td>\n",
              "      <td>1.000000</td>\n",
              "      <td>0.000000</td>\n",
              "      <td>1.000000</td>\n",
              "      <td>0.000000</td>\n",
              "      <td>0.000000</td>\n",
              "      <td>0.000000</td>\n",
              "      <td>0.000000</td>\n",
              "    </tr>\n",
              "    <tr>\n",
              "      <th>25%</th>\n",
              "      <td>0.000000</td>\n",
              "      <td>0.000000</td>\n",
              "      <td>0.000000</td>\n",
              "      <td>0.000000</td>\n",
              "      <td>0.000000</td>\n",
              "      <td>0.000000</td>\n",
              "      <td>0.000000</td>\n",
              "      <td>0.000000</td>\n",
              "      <td>1.000000</td>\n",
              "      <td>0.000000</td>\n",
              "      <td>...</td>\n",
              "      <td>0.000000</td>\n",
              "      <td>0.000000</td>\n",
              "      <td>0.000000</td>\n",
              "      <td>1.000000</td>\n",
              "      <td>0.000000</td>\n",
              "      <td>1.000000</td>\n",
              "      <td>0.000000</td>\n",
              "      <td>0.000000</td>\n",
              "      <td>0.000000</td>\n",
              "      <td>0.000000</td>\n",
              "    </tr>\n",
              "    <tr>\n",
              "      <th>50%</th>\n",
              "      <td>0.000000</td>\n",
              "      <td>0.000000</td>\n",
              "      <td>2.000000</td>\n",
              "      <td>0.000000</td>\n",
              "      <td>0.000000</td>\n",
              "      <td>0.000000</td>\n",
              "      <td>0.000000</td>\n",
              "      <td>0.000000</td>\n",
              "      <td>2.000000</td>\n",
              "      <td>1.000000</td>\n",
              "      <td>...</td>\n",
              "      <td>0.000000</td>\n",
              "      <td>0.000000</td>\n",
              "      <td>0.000000</td>\n",
              "      <td>3.000000</td>\n",
              "      <td>0.000000</td>\n",
              "      <td>1.000000</td>\n",
              "      <td>0.000000</td>\n",
              "      <td>0.000000</td>\n",
              "      <td>0.000000</td>\n",
              "      <td>0.150000</td>\n",
              "    </tr>\n",
              "    <tr>\n",
              "      <th>75%</th>\n",
              "      <td>0.000000</td>\n",
              "      <td>0.000000</td>\n",
              "      <td>5.000000</td>\n",
              "      <td>1.000000</td>\n",
              "      <td>0.000000</td>\n",
              "      <td>1.000000</td>\n",
              "      <td>2.000000</td>\n",
              "      <td>0.000000</td>\n",
              "      <td>4.000000</td>\n",
              "      <td>1.000000</td>\n",
              "      <td>...</td>\n",
              "      <td>0.000000</td>\n",
              "      <td>0.000000</td>\n",
              "      <td>0.000000</td>\n",
              "      <td>7.000000</td>\n",
              "      <td>0.000000</td>\n",
              "      <td>1.000000</td>\n",
              "      <td>0.000000</td>\n",
              "      <td>2.000000</td>\n",
              "      <td>0.000000</td>\n",
              "      <td>0.314300</td>\n",
              "    </tr>\n",
              "    <tr>\n",
              "      <th>max</th>\n",
              "      <td>29.000000</td>\n",
              "      <td>84.000000</td>\n",
              "      <td>537.000000</td>\n",
              "      <td>273.000000</td>\n",
              "      <td>1.000000</td>\n",
              "      <td>172.000000</td>\n",
              "      <td>261.000000</td>\n",
              "      <td>151.000000</td>\n",
              "      <td>665.000000</td>\n",
              "      <td>1.000000</td>\n",
              "      <td>...</td>\n",
              "      <td>1.000000</td>\n",
              "      <td>56.000000</td>\n",
              "      <td>353.000000</td>\n",
              "      <td>701.000000</td>\n",
              "      <td>38.000000</td>\n",
              "      <td>3.000000</td>\n",
              "      <td>1.000000</td>\n",
              "      <td>409.000000</td>\n",
              "      <td>2.000000</td>\n",
              "      <td>1.000000</td>\n",
              "    </tr>\n",
              "  </tbody>\n",
              "</table>\n",
              "<p>8 rows × 41 columns</p>\n",
              "</div>\n",
              "      <button class=\"colab-df-convert\" onclick=\"convertToInteractive('df-d59f518e-c49f-4c95-8810-80f66c437a9c')\"\n",
              "              title=\"Convert this dataframe to an interactive table.\"\n",
              "              style=\"display:none;\">\n",
              "        \n",
              "  <svg xmlns=\"http://www.w3.org/2000/svg\" height=\"24px\"viewBox=\"0 0 24 24\"\n",
              "       width=\"24px\">\n",
              "    <path d=\"M0 0h24v24H0V0z\" fill=\"none\"/>\n",
              "    <path d=\"M18.56 5.44l.94 2.06.94-2.06 2.06-.94-2.06-.94-.94-2.06-.94 2.06-2.06.94zm-11 1L8.5 8.5l.94-2.06 2.06-.94-2.06-.94L8.5 2.5l-.94 2.06-2.06.94zm10 10l.94 2.06.94-2.06 2.06-.94-2.06-.94-.94-2.06-.94 2.06-2.06.94z\"/><path d=\"M17.41 7.96l-1.37-1.37c-.4-.4-.92-.59-1.43-.59-.52 0-1.04.2-1.43.59L10.3 9.45l-7.72 7.72c-.78.78-.78 2.05 0 2.83L4 21.41c.39.39.9.59 1.41.59.51 0 1.02-.2 1.41-.59l7.78-7.78 2.81-2.81c.8-.78.8-2.07 0-2.86zM5.41 20L4 18.59l7.72-7.72 1.47 1.35L5.41 20z\"/>\n",
              "  </svg>\n",
              "      </button>\n",
              "      \n",
              "  <style>\n",
              "    .colab-df-container {\n",
              "      display:flex;\n",
              "      flex-wrap:wrap;\n",
              "      gap: 12px;\n",
              "    }\n",
              "\n",
              "    .colab-df-convert {\n",
              "      background-color: #E8F0FE;\n",
              "      border: none;\n",
              "      border-radius: 50%;\n",
              "      cursor: pointer;\n",
              "      display: none;\n",
              "      fill: #1967D2;\n",
              "      height: 32px;\n",
              "      padding: 0 0 0 0;\n",
              "      width: 32px;\n",
              "    }\n",
              "\n",
              "    .colab-df-convert:hover {\n",
              "      background-color: #E2EBFA;\n",
              "      box-shadow: 0px 1px 2px rgba(60, 64, 67, 0.3), 0px 1px 3px 1px rgba(60, 64, 67, 0.15);\n",
              "      fill: #174EA6;\n",
              "    }\n",
              "\n",
              "    [theme=dark] .colab-df-convert {\n",
              "      background-color: #3B4455;\n",
              "      fill: #D2E3FC;\n",
              "    }\n",
              "\n",
              "    [theme=dark] .colab-df-convert:hover {\n",
              "      background-color: #434B5C;\n",
              "      box-shadow: 0px 1px 3px 1px rgba(0, 0, 0, 0.15);\n",
              "      filter: drop-shadow(0px 1px 2px rgba(0, 0, 0, 0.3));\n",
              "      fill: #FFFFFF;\n",
              "    }\n",
              "  </style>\n",
              "\n",
              "      <script>\n",
              "        const buttonEl =\n",
              "          document.querySelector('#df-d59f518e-c49f-4c95-8810-80f66c437a9c button.colab-df-convert');\n",
              "        buttonEl.style.display =\n",
              "          google.colab.kernel.accessAllowed ? 'block' : 'none';\n",
              "\n",
              "        async function convertToInteractive(key) {\n",
              "          const element = document.querySelector('#df-d59f518e-c49f-4c95-8810-80f66c437a9c');\n",
              "          const dataTable =\n",
              "            await google.colab.kernel.invokeFunction('convertToInteractive',\n",
              "                                                     [key], {});\n",
              "          if (!dataTable) return;\n",
              "\n",
              "          const docLinkHtml = 'Like what you see? Visit the ' +\n",
              "            '<a target=\"_blank\" href=https://colab.research.google.com/notebooks/data_table.ipynb>data table notebook</a>'\n",
              "            + ' to learn more about interactive tables.';\n",
              "          element.innerHTML = '';\n",
              "          dataTable['output_type'] = 'display_data';\n",
              "          await google.colab.output.renderOutput(dataTable, element);\n",
              "          const docLink = document.createElement('div');\n",
              "          docLink.innerHTML = docLinkHtml;\n",
              "          element.appendChild(docLink);\n",
              "        }\n",
              "      </script>\n",
              "    </div>\n",
              "  </div>\n",
              "  "
            ]
          },
          "metadata": {},
          "execution_count": 10
        }
      ]
    },
    {
      "cell_type": "markdown",
      "source": [
        "**Answer 1.4**"
      ],
      "metadata": {
        "id": "VMlVo-2DBIRh"
      }
    },
    {
      "cell_type": "code",
      "source": [
        "print(df_clean.info())"
      ],
      "metadata": {
        "colab": {
          "base_uri": "https://localhost:8080/"
        },
        "id": "WoK5klJ6BO0x",
        "outputId": "c09a96f7-ed09-46c8-f183-276f2ae2358e"
      },
      "execution_count": 10,
      "outputs": [
        {
          "output_type": "stream",
          "name": "stdout",
          "text": [
            "<class 'pandas.core.frame.DataFrame'>\n",
            "Int64Index: 46030 entries, 0 to 46278\n",
            "Data columns (total 43 columns):\n",
            " #   Column                    Non-Null Count  Dtype  \n",
            "---  ------                    --------------  -----  \n",
            " 0   sacc_items                46030 non-null  int64  \n",
            " 1   work_orders               46030 non-null  int64  \n",
            " 2   female_items              46030 non-null  int64  \n",
            " 3   is_newsletter_subscriber  46030 non-null  object \n",
            " 4   male_items                46030 non-null  int64  \n",
            " 5   afterpay_payments         46030 non-null  int64  \n",
            " 6   msite_orders              46030 non-null  int64  \n",
            " 7   wftw_items                46030 non-null  int64  \n",
            " 8   mapp_items                46030 non-null  int64  \n",
            " 9   orders                    46030 non-null  int64  \n",
            " 10  cc_payments               46030 non-null  int64  \n",
            " 11  curvy_items               46030 non-null  int64  \n",
            " 12  paypal_payments           46030 non-null  int64  \n",
            " 13  macc_items                46030 non-null  int64  \n",
            " 14  cancels                   46030 non-null  int64  \n",
            " 15  revenue                   46030 non-null  float64\n",
            " 16  returns                   46030 non-null  int64  \n",
            " 17  other_collection_orders   46030 non-null  int64  \n",
            " 18  parcelpoint_orders        46030 non-null  int64  \n",
            " 19  customer_id               46030 non-null  object \n",
            " 20  android_orders            46030 non-null  int64  \n",
            " 21  days_since_last_order     46030 non-null  int64  \n",
            " 22  vouchers                  46030 non-null  int64  \n",
            " 23  average_discount_used     46030 non-null  float64\n",
            " 24  shipping_addresses        46030 non-null  int64  \n",
            " 25  redpen_discount_used      46030 non-null  float64\n",
            " 26  mftw_items                46030 non-null  int64  \n",
            " 27  days_since_first_order    46030 non-null  int64  \n",
            " 28  unisex_items              46030 non-null  int64  \n",
            " 29  home_orders               46030 non-null  int64  \n",
            " 30  coupon_discount_applied   35826 non-null  float64\n",
            " 31  desktop_orders            46030 non-null  int64  \n",
            " 32  ios_orders                46030 non-null  int64  \n",
            " 33  apple_payments            46030 non-null  int64  \n",
            " 34  wspt_items                46030 non-null  int64  \n",
            " 35  wacc_items                46030 non-null  int64  \n",
            " 36  items                     46030 non-null  int64  \n",
            " 37  mspt_items                46030 non-null  int64  \n",
            " 38  devices                   46030 non-null  int64  \n",
            " 39  different_addresses       46030 non-null  int64  \n",
            " 40  wapp_items                46030 non-null  int64  \n",
            " 41  other_device_orders       46030 non-null  int64  \n",
            " 42  average_discount_onoffer  46030 non-null  float64\n",
            "dtypes: float64(5), int64(36), object(2)\n",
            "memory usage: 15.5+ MB\n",
            "None\n"
          ]
        }
      ]
    },
    {
      "cell_type": "markdown",
      "source": [
        "**Answer 1.5**"
      ],
      "metadata": {
        "id": "VixVTxPrBPyb"
      }
    },
    {
      "cell_type": "code",
      "source": [
        "#percentage of customers who have purchased female items have paid by credit card\n",
        "\n",
        "def female_items_cc_payments_all_cust(y):\n",
        "  all_cust = len(y)\n",
        "  cc_payments = len(y[(y['female_items']>0)& (y['cc_payments']>0)])\n",
        "  return np.round((cc_payments/all_cust)*100, 1)\n",
        "\n",
        "def female_items_cc_payments_female_cust(x):\n",
        "  female_cust = len(x[(x['female_items']>0)])\n",
        "  female_cc_payments = len(x[(x['female_items']>0)& (x['cc_payments']>0)])\n",
        "  return np.round((female_cc_payments/female_cust)*100, 1)\n",
        "\n",
        "all_cust_female_items = female_items_cc_payments_all_cust(df_clean)\n",
        "female_cust_female_items = female_items_cc_payments_female_cust(df_clean)\n",
        "\n",
        "print('The percentage of customers who have purchased female items and paid through credit card is: {}'.format(all_cust_female_items))\n",
        "print('The percentage of female customers who have purchased female items and paid through credit card is: {}'.format(female_cust_female_items))\n"
      ],
      "metadata": {
        "colab": {
          "base_uri": "https://localhost:8080/"
        },
        "id": "YFmNaOOhBSFB",
        "outputId": "a565c1b1-72cd-489a-e17c-c434d11c9041"
      },
      "execution_count": 11,
      "outputs": [
        {
          "output_type": "stream",
          "name": "stdout",
          "text": [
            "The percentage of customers who have purchased female items and paid through credit card is: 48.8\n",
            "The percentage of female customers who have purchased female items and paid through credit card is: 65.5\n"
          ]
        }
      ]
    },
    {
      "cell_type": "code",
      "source": [
        "#total revenue to the nearest dollar for customers who have paid by credit card\n",
        "\n",
        "def total_payment_cc(x):\n",
        "  return math.ceil(x.loc[(x['cc_payments']>0),'revenue'].sum())\n",
        "\n",
        "rev_cc = total_payment_cc(df_clean)\n",
        "print('Revenue made to the nearest dollar by customers who paid through credit card: {}'.format(rev_cc))"
      ],
      "metadata": {
        "colab": {
          "base_uri": "https://localhost:8080/"
        },
        "id": "0woI9b45CAjn",
        "outputId": "da7da49a-5708-4725-d340-7f2d01d05790"
      },
      "execution_count": 12,
      "outputs": [
        {
          "output_type": "stream",
          "name": "stdout",
          "text": [
            "Revenue made to the nearest dollar by customers who paid through credit card: 50189329\n"
          ]
        }
      ]
    },
    {
      "cell_type": "markdown",
      "source": [
        "**Answer 1.6**"
      ],
      "metadata": {
        "id": "fJYQ3_I4njFf"
      }
    },
    {
      "cell_type": "code",
      "source": [
        "#Change value of Y and N to 1 and 0 in the is_newsletter_subscriber column\n",
        "\n",
        "replace_vals = {'Y':1,'N':0}\n",
        "\n",
        "df_clean = df_clean.replace({'is_newsletter_subscriber': replace_vals})\n",
        "print(df_clean['is_newsletter_subscriber'])\n",
        "#print(df_clean)\n",
        "print(df_clean['is_newsletter_subscriber'].dtypes)\n",
        "print(df_clean['is_newsletter_subscriber'].value_counts())\n"
      ],
      "metadata": {
        "colab": {
          "base_uri": "https://localhost:8080/"
        },
        "id": "f3jQgr5znmNR",
        "outputId": "d0227c21-ca33-4c25-b163-3de8ef24b871"
      },
      "execution_count": 13,
      "outputs": [
        {
          "output_type": "stream",
          "name": "stdout",
          "text": [
            "0        0\n",
            "1        1\n",
            "2        1\n",
            "3        1\n",
            "4        1\n",
            "        ..\n",
            "46274    0\n",
            "46275    1\n",
            "46276    0\n",
            "46277    1\n",
            "46278    1\n",
            "Name: is_newsletter_subscriber, Length: 46030, dtype: int64\n",
            "int64\n",
            "0    27203\n",
            "1    18827\n",
            "Name: is_newsletter_subscriber, dtype: int64\n"
          ]
        }
      ]
    },
    {
      "cell_type": "markdown",
      "source": [
        "**Answer 1.7**"
      ],
      "metadata": {
        "id": "Dy_RvNk6XKUF"
      }
    },
    {
      "cell_type": "code",
      "source": [
        "#create some new features\n",
        "df_clean['female_item_rate'] = df_clean['female_items'] / df_clean['items']\n",
        "df_clean['male_item_rate'] = df_clean['male_items'] / df_clean['items']\n",
        "df_clean['unisex_item_rate'] = df_clean['unisex_items'] / df_clean['items']"
      ],
      "metadata": {
        "id": "rAq5FBPaXMvM"
      },
      "execution_count": 14,
      "outputs": []
    },
    {
      "cell_type": "code",
      "source": [
        "#Rows with value female_item_rate == 1 and the value male_item_rate == 1 and the value orders > 4.11\n",
        "\n",
        "def threshold_valueorder_male_female(x, male_item_rate=1, female_item_rate=1, value_orders=4.11):\n",
        "    return len(x[(x['female_item_rate'] == female_item_rate) & (x['male_item_rate'] == male_item_rate) & (x['orders'] > value_orders)])\n",
        "\n",
        "print(\"The number of rows with the value satisfying the said criteria is: {}\".format(threshold_valueorder_male_female(df_clean)))"
      ],
      "metadata": {
        "colab": {
          "base_uri": "https://localhost:8080/"
        },
        "id": "aSUdb2z3kz8v",
        "outputId": "56cd4673-370a-4c40-db83-d7e403ba6da0"
      },
      "execution_count": 15,
      "outputs": [
        {
          "output_type": "stream",
          "name": "stdout",
          "text": [
            "The number of rows with the value satisfying the said criteria is: 0\n"
          ]
        }
      ]
    },
    {
      "cell_type": "markdown",
      "source": [
        "**Answer 1.8**"
      ],
      "metadata": {
        "id": "lCcEo5rTpkkG"
      }
    },
    {
      "cell_type": "code",
      "source": [
        "#use the original format of the data\n",
        "vals_replace = {1:'Y',0:'N'}\n",
        "\n",
        "df_clean = df_clean.replace({'is_newsletter_subscriber': vals_replace})\n",
        "\n",
        "#group data on the value of column is_newsletter_subscriber\n",
        "newsletter_subscriber_group = df_clean.groupby(['is_newsletter_subscriber'])\n",
        "\n",
        "print('The max order values by grouping is_newsletter_subscriber is {}'.format(newsletter_subscriber_group['orders'].max()))\n",
        "print()\n",
        "print('The average order values by grouping is_newsletter_subscriber is {}'.format(newsletter_subscriber_group['orders'].mean()))\n",
        "print()\n",
        "print('The median order values by grouping is_newsletter_subscriber is {}'.format(newsletter_subscriber_group['orders'].median()))"
      ],
      "metadata": {
        "colab": {
          "base_uri": "https://localhost:8080/"
        },
        "id": "CyLikxNtpm13",
        "outputId": "f86037f4-dac1-43e7-c524-3d672789ab5a"
      },
      "execution_count": 21,
      "outputs": [
        {
          "output_type": "stream",
          "name": "stdout",
          "text": [
            "The max order values by grouping is_newsletter_subscriber is is_newsletter_subscriber\n",
            "N    665\n",
            "Y    234\n",
            "Name: orders, dtype: int64\n",
            "\n",
            "The average order values by grouping is_newsletter_subscriber is is_newsletter_subscriber\n",
            "N    2.484175\n",
            "Y    6.462474\n",
            "Name: orders, dtype: float64\n",
            "\n",
            "The median order values by grouping is_newsletter_subscriber is is_newsletter_subscriber\n",
            "N    1.0\n",
            "Y    3.0\n",
            "Name: orders, dtype: float64\n"
          ]
        }
      ]
    }
  ]
}