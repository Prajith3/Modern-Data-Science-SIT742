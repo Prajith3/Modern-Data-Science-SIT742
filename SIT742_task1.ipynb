{
  "nbformat": 4,
  "nbformat_minor": 0,
  "metadata": {
    "colab": {
      "name": "SIT742_task1.ipynb",
      "provenance": [],
      "collapsed_sections": []
    },
    "kernelspec": {
      "name": "python3",
      "display_name": "Python 3"
    },
    "language_info": {
      "name": "python"
    }
  },
  "cells": [
    {
      "cell_type": "markdown",
      "source": [
        "# *Student ID: s220156351*\n",
        "# *Student Name: Prajith Raj Suresh*\n",
        "*Workshop - Wednesday 3PM*\n"
      ],
      "metadata": {
        "id": "jPYXD49wu6nJ"
      }
    },
    {
      "cell_type": "markdown",
      "source": [
        "# **Part 1:**"
      ],
      "metadata": {
        "id": "TDHD9BY_vtrm"
      }
    },
    {
      "cell_type": "markdown",
      "source": [
        "**Answer 1.1 : -**"
      ],
      "metadata": {
        "id": "1pW4nYwyv9jA"
      }
    },
    {
      "cell_type": "code",
      "execution_count": 1,
      "metadata": {
        "colab": {
          "base_uri": "https://localhost:8080/"
        },
        "id": "q6UaZVI0uUtt",
        "outputId": "2453173f-b631-4b1e-9d3e-971305d16910"
      },
      "outputs": [
        {
          "output_type": "stream",
          "name": "stdout",
          "text": [
            "Sorted list: [2, 5, 6, 7, 8, 11, 15, 25, 27, 31, 31, 32, 36, 39, 41, 43, 48, 50, 61, 80, 82]\n",
            "Odd value is :  31\n",
            "Position of the greater value is:  18\n",
            "The age greater than 90% of the other ages is:  61\n"
          ]
        }
      ],
      "source": [
        "ages = [5,31,43,48,50,41,7,11,15,39,80,82,32,2,8,6,25,36,27,61,31]\n",
        "\n",
        "def my_median(ages):\n",
        "    ages.sort()\n",
        "    print('Sorted list:', ages)\n",
        "\n",
        "    if len(ages)%2 == 0 :\n",
        "        median_val_1 = int(len(ages)/2 - 1)\n",
        "        median_val_2 = int(len(ages)/2)\n",
        "        median_even_value = (median_val_1+median_val_2)/2\n",
        "        print('Even value is : ',ages[median_even_value])\n",
        "    else:\n",
        "        median_odd_value = int((len(ages)+1)/2 -1 )\n",
        "        print('Odd value is : ',ages[median_odd_value])\n",
        "\n",
        "my_median(ages)\n",
        "\n",
        "list_count = len(ages)-1\n",
        "greater_average = round((list_count)*0.9)\n",
        "print('Position of the greater value is: ',greater_average)\n",
        "print('The age greater than 90% of the other ages is: ',ages[greater_average])"
      ]
    },
    {
      "cell_type": "markdown",
      "source": [
        "**Answer 1.2: -**"
      ],
      "metadata": {
        "id": "I43h8cv_wz7D"
      }
    },
    {
      "cell_type": "code",
      "source": [
        "def sum_test(n):\n",
        "    summation_val = 0\n",
        "    for i in range(1,n+1):\n",
        "        summation_val = summation_val+i\n",
        "    print('The summation of the sequence of number',n,'is:',summation_val)\n",
        "\n",
        "sum_test(12)"
      ],
      "metadata": {
        "colab": {
          "base_uri": "https://localhost:8080/"
        },
        "id": "TbGJh7_HwzUG",
        "outputId": "488271f5-4d83-4bc8-dc77-585a135e740c"
      },
      "execution_count": 2,
      "outputs": [
        {
          "output_type": "stream",
          "name": "stdout",
          "text": [
            "The summation of the sequence of number 12 is: 78\n"
          ]
        }
      ]
    },
    {
      "cell_type": "markdown",
      "source": [
        "**Answer 1.3: -**"
      ],
      "metadata": {
        "id": "Rvj2AprZxHlt"
      }
    },
    {
      "cell_type": "code",
      "source": [
        "score = 0\n",
        "while True:\n",
        "    try:\n",
        "        score = int(input('please_fill_your_score: '))\n",
        "        if (score < 60):\n",
        "            print('F')\n",
        "            break\n",
        "        elif (score >= 60 and score <70):\n",
        "            print('P')\n",
        "            break\n",
        "        elif (score >= 70 and score <80):\n",
        "            print('C')\n",
        "            break\n",
        "        elif (score >= 80 and score <90):\n",
        "            print('D')\n",
        "            break\n",
        "        elif (score >= 90):\n",
        "            print('HD')\n",
        "            break\n",
        "        else:\n",
        "            ('Incorrect number!')\n",
        "    except(ValueError,TypeError):\n",
        "        print('Please enter only Integer Values please!')\n",
        "    finally:\n",
        "        pass"
      ],
      "metadata": {
        "colab": {
          "base_uri": "https://localhost:8080/"
        },
        "id": "yfsNr-8wxR3h",
        "outputId": "5240c55d-30cc-47f3-bd56-415103d20249"
      },
      "execution_count": 3,
      "outputs": [
        {
          "output_type": "stream",
          "name": "stdout",
          "text": [
            "please_fill_your_score: 76\n",
            "C\n"
          ]
        }
      ]
    },
    {
      "cell_type": "markdown",
      "source": [
        "**Answer 1.4: -**"
      ],
      "metadata": {
        "id": "I8V2MDhbxa4t"
      }
    },
    {
      "cell_type": "code",
      "source": [
        "num = 5\n",
        "\n",
        "i=1\n",
        "while num>0:\n",
        "    while i<=num:\n",
        "        j=1\n",
        "        while (j<=i):\n",
        "            print(\"*\", end = \" \")\n",
        "            j+=1\n",
        "        print(\"\")\n",
        "        i+=1\n",
        "    break\n",
        "\n",
        "k=1\n",
        "while k<=num-1:\n",
        "    l = num\n",
        "    while l-1>=k:\n",
        "        print(\"*\", end = \" \")\n",
        "        l-=1\n",
        "    print(\"\")\n",
        "    k+=1"
      ],
      "metadata": {
        "colab": {
          "base_uri": "https://localhost:8080/"
        },
        "id": "BYLxHg28xfAF",
        "outputId": "36e6e50f-ff30-4148-f7a2-dfc4aaeea517"
      },
      "execution_count": 4,
      "outputs": [
        {
          "output_type": "stream",
          "name": "stdout",
          "text": [
            "* \n",
            "* * \n",
            "* * * \n",
            "* * * * \n",
            "* * * * * \n",
            "* * * * \n",
            "* * * \n",
            "* * \n",
            "* \n"
          ]
        }
      ]
    },
    {
      "cell_type": "markdown",
      "source": [
        "**Answer 1.5: -**"
      ],
      "metadata": {
        "id": "loqKZXJaxl3I"
      }
    },
    {
      "cell_type": "code",
      "source": [
        "def digits_in_string(string):\n",
        "    new_string = \"\"\n",
        "    for i in string:\n",
        "        if i.isdigit():\n",
        "            new_string+=i\n",
        "            result = new_string\n",
        "    print(result)\n",
        "\n",
        "digits_in_string(\"aAsmr3idd4bgs7Dlsf9eAF\")"
      ],
      "metadata": {
        "colab": {
          "base_uri": "https://localhost:8080/"
        },
        "id": "eAQt0tSgxqYU",
        "outputId": "54209000-5ae8-44e2-a704-68de9d347406"
      },
      "execution_count": 5,
      "outputs": [
        {
          "output_type": "stream",
          "name": "stdout",
          "text": [
            "3479\n"
          ]
        }
      ]
    },
    {
      "cell_type": "markdown",
      "source": [
        "**Answer 1.6: -**"
      ],
      "metadata": {
        "id": "LFyM9yhGx4-L"
      }
    },
    {
      "cell_type": "code",
      "source": [
        "def find_all(string, sstring):\n",
        "    string_list = []\n",
        "    string_length = len(string)\n",
        "    string_index = 0\n",
        "\n",
        "    while string_index < string_length:\n",
        "        i = string.find(sstring,string_index)\n",
        "        if i == -1:\n",
        "            return string_list\n",
        "        string_list.append(i)\n",
        "        string_index = i+1\n",
        "    return string_list\n",
        "\n",
        "print(find_all('helloworldhelloPythonhelloc++hellojava','hello'))"
      ],
      "metadata": {
        "colab": {
          "base_uri": "https://localhost:8080/"
        },
        "id": "_Vg9P0v1x8wg",
        "outputId": "a6838649-51f2-42b3-ebb5-78361ca75a70"
      },
      "execution_count": 6,
      "outputs": [
        {
          "output_type": "stream",
          "name": "stdout",
          "text": [
            "[0, 10, 21, 29]\n"
          ]
        }
      ]
    },
    {
      "cell_type": "markdown",
      "source": [
        "**Answer 1.7: -**"
      ],
      "metadata": {
        "id": "Ry530u2iyU1c"
      }
    },
    {
      "cell_type": "code",
      "source": [
        "class Person:\n",
        "    def __init__(self,name,age):\n",
        "        self.name = name\n",
        "        self.age = age\n",
        "        print('name: {} , age: {}'.format(self.name,self.age))\n",
        "\n",
        "    def Set_Age(self,value):\n",
        "        self.age = value\n",
        "        print(self.age)\n",
        "\n",
        "    def Get_Age(self):\n",
        "        return(self.age)\n",
        "\n",
        "    def Updated_name_age(self):\n",
        "        print('name: {} , age: {}'.format(self.name,self.age))\n",
        "\n",
        "\n",
        "obj_1 = Person('Daniel',50)\n",
        "\n",
        "obj_1.Set_Age(60)\n",
        "obj_1.Get_Age()\n",
        "obj_1.Updated_name_age()"
      ],
      "metadata": {
        "colab": {
          "base_uri": "https://localhost:8080/"
        },
        "id": "lmuCXQG4yXUh",
        "outputId": "914a3fbc-cd69-479c-a1e9-3403e56ce071"
      },
      "execution_count": 7,
      "outputs": [
        {
          "output_type": "stream",
          "name": "stdout",
          "text": [
            "name: Daniel , age: 50\n",
            "60\n",
            "name: Daniel , age: 60\n"
          ]
        }
      ]
    },
    {
      "cell_type": "markdown",
      "source": [
        "**Answer 1.8: -**"
      ],
      "metadata": {
        "id": "3V3fj3MHydbI"
      }
    },
    {
      "cell_type": "code",
      "source": [
        "def permute(nums, index_value=0):\n",
        "\n",
        "        if len(nums)==0:\n",
        "            return []\n",
        "\n",
        "        if index_value == len(nums):\n",
        "            print([nums], end = \",\")\n",
        "        else:\n",
        "            for i in range(index_value, len(nums)):\n",
        "                nums[index_value], nums[i] = nums[i] ,nums[index_value]\n",
        "                permute(nums, index_value+1)\n",
        "                nums[index_value], nums[i] = nums[i], nums[index_value]\n",
        "\n",
        "nums = [1,2,3]\n",
        "unique_nums = set(nums)\n",
        "\n",
        "if len(unique_nums)==len(nums):     \n",
        "    permute([1,2,3])\n",
        "else:\n",
        "    print('Enter only unique values!')\n",
        "\n",
        "permute([1])"
      ],
      "metadata": {
        "colab": {
          "base_uri": "https://localhost:8080/"
        },
        "id": "klhGdRngygR0",
        "outputId": "438e1f30-cf28-46cf-c3b2-7181a216222b"
      },
      "execution_count": 9,
      "outputs": [
        {
          "output_type": "stream",
          "name": "stdout",
          "text": [
            "[[1, 2, 3]],[[1, 3, 2]],[[2, 1, 3]],[[2, 3, 1]],[[3, 2, 1]],[[3, 1, 2]],[[1]],"
          ]
        }
      ]
    }
  ]
}